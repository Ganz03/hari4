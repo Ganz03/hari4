{
  "cells": [
    {
      "cell_type": "markdown",
      "metadata": {
        "id": "a9HYUdCUsrKl"
      },
      "source": [
        "<h2>Soal 1: Comparison Operator</h2>\n",
        "\n",
        "- Berikan contoh comparison dari tipe data string\n",
        "- Berikan contoh comparison dari tipe data boolean\n",
        "- Berikan contoh comparison dari tipe data integer"
      ]
    },
    {
      "cell_type": "code",
      "execution_count": 5,
      "metadata": {
        "id": "fUFkFOt0afUL"
      },
      "outputs": [],
      "source": [
        "string1 = \"apple\"\n",
        "string2 = \"banana\"\n",
        "boolean1 = True\n",
        "boolean2 = False\n",
        "integer1 = 10\n",
        "integer2 = 5\n",
        "\n",
        "hasil1 = string1 < string2 \n",
        "hasil2 = integer1 > integer2 \n",
        "hasil3 = boolean1 or boolean2"
      ]
    },
    {
      "cell_type": "markdown",
      "metadata": {
        "id": "XeywALwwhZn7"
      },
      "source": [
        "\n",
        "\n",
        "---\n",
        "\n",
        "\n",
        "\n",
        "---\n",
        "\n"
      ]
    },
    {
      "cell_type": "markdown",
      "metadata": {
        "id": "IbNoZvVssrK5"
      },
      "source": [
        "<h2>Soal 2: Boolean Comparison</h2>\n",
        "\n",
        "- Berikan contoh gabungan multiple comparison menggunkan Boolean Comparisin 'and'\n",
        "- Berikan contoh gabungan multiple comparison menggunkan Boolean Comparisin 'or'\n",
        "- Berikan contoh gabungan multiple comparison menggunkan Boolean Comparisin 'not'"
      ]
    },
    {
      "cell_type": "code",
      "execution_count": 6,
      "metadata": {
        "id": "M1mwGoegaiET"
      },
      "outputs": [],
      "source": [
        "boolean1 = True\n",
        "boolean2 = False\n",
        "\n",
        "_and = boolean1 and boolean2  \n",
        "_or = boolean1 or boolean2    \n",
        "_not = not boolean1"
      ]
    },
    {
      "cell_type": "markdown",
      "metadata": {
        "id": "Y3ejsyvqhciI"
      },
      "source": [
        "\n",
        "\n",
        "---\n",
        "\n",
        "\n",
        "\n",
        "---\n",
        "\n"
      ]
    },
    {
      "cell_type": "markdown",
      "metadata": {
        "id": "Yp_g_sPMsrLH"
      },
      "source": [
        "<h2>Soal 3: If-Else Statement</h2>\n",
        "\n",
        "Lengkapi kode untuk menghasilkan suatu output yang di harapkan\n",
        "\n",
        "- Bualah sebuah if-else statement yang dimana akan mem-print 'High' jika grade adalah 'A' dan price lebih dari 100000, kemudian mem-print 'Medium' jika grade adalah 'A' dan price lebih dari 50000 dan memprint 'low' jika grade adalah 'A' dan price lebih kecil dan sama dengan 50000."
      ]
    },
    {
      "cell_type": "code",
      "execution_count": 8,
      "metadata": {
        "id": "2PPsaN50c9ew"
      },
      "outputs": [
        {
          "name": "stdout",
          "output_type": "stream",
          "text": [
            "Low\n"
          ]
        }
      ],
      "source": [
        "grade = 'A'\n",
        "price = 50000\n",
        "\n",
        "if grade == 'A' and price > 100000:\n",
        "    print('High')\n",
        "elif grade == 'A' and price > 50000:\n",
        "    print('Medium')\n",
        "elif grade == 'A' and price <= 50000:\n",
        "    print('Low')\n"
      ]
    },
    {
      "cell_type": "markdown",
      "metadata": {
        "id": "FkSxKlMNhfzn"
      },
      "source": [
        "\n",
        "\n",
        "---\n",
        "\n",
        "\n",
        "\n",
        "---\n",
        "\n"
      ]
    },
    {
      "cell_type": "markdown",
      "metadata": {
        "id": "IcoJXJT1srLW"
      },
      "source": [
        "<h2>Soal 4: Comparison Operator dengan fungsi</h2>\n",
        "\n",
        "Buatlah sebuah fungsi yang menerima satu argument bertipe data numeric dan menghasilkan sebuah return sebagai berikut :\n",
        "- menghasilkan return 'Aneh' jika nilai dari argument tersebut adalah bilangan ganjil\n",
        "- menghasilkan return 'Tidak Aneh' jika nilai dari argument tersebut adalah bilangan genap dan diantara nilai 2 sampai 5 (2 dan 5 termasuk)\n",
        "- menghasilkan return 'Aneh' jika nilai dari argument tersebut adalah bilangan genap dan diantara nilai 6 sampai 20 (6 dan 20 termasuk)\n",
        "- menghasilkan return 'Tidak Aneh' jika nilai dari argument tersebut adalah bilangan genap dan lebih besari dari 20"
      ]
    },
    {
      "cell_type": "code",
      "execution_count": 11,
      "metadata": {
        "id": "oGXGd_MhdH9D"
      },
      "outputs": [
        {
          "name": "stdout",
          "output_type": "stream",
          "text": [
            "Aneh\n"
          ]
        }
      ],
      "source": [
        "# Buat fungsi\n",
        "def ceknummber(value):\n",
        "    if value % 2 != 0:\n",
        "        return 'Aneh'\n",
        "    elif value % 2 == 0 and 2 <= value <= 5:\n",
        "        return 'Tidak Aneh'\n",
        "    elif value % 2 == 0 and 6 <= value <= 20:\n",
        "        return 'Aneh'\n",
        "    elif value % 2 == 0 and value > 20:\n",
        "        return 'Tidak Aneh'\n",
        "\n",
        "# Contoh pemanggilan fungsi\n",
        "print(ceknummber(17))  "
      ]
    },
    {
      "cell_type": "markdown",
      "metadata": {
        "id": "QxKrmLcchhvf"
      },
      "source": [
        "\n",
        "\n",
        "---\n",
        "\n",
        "\n",
        "\n",
        "---\n",
        "\n"
      ]
    },
    {
      "cell_type": "markdown",
      "metadata": {
        "id": "gf0D64xOsrLl"
      },
      "source": [
        "<h2>Soal 5: While Loop dan For Loop</h2>\n",
        "\n",
        "- Apa perbedaan while loop dan for loop?\n",
        "- Berikan contoh sederhana cara menggunakan while loop dan for loop"
      ]
    },
    {
      "cell_type": "markdown",
      "metadata": {
        "id": "cSrE7RbvdXWe"
      },
      "source": [
        "jawaban perbedaan\n"
      ]
    },
    {
      "cell_type": "code",
      "execution_count": 1,
      "metadata": {
        "id": "RSf-gg-rdY35"
      },
      "outputs": [
        {
          "name": "stdout",
          "output_type": "stream",
          "text": [
            "Doing important work. i = 0\n",
            "Doing important work. i = 1\n",
            "Doing important work. i = 2\n",
            "Doing important work. i = 3\n",
            "Doing important work. i = 4\n"
          ]
        }
      ],
      "source": [
        "# jawaban contoh\n",
        "#loop for lebih sering digunakan untuk kasus perulangan yang jumlah iterasinya lebih pasti. Sebaliknya, while loop lebih banyak digunakan untuk kasus perulangan dengan lebih banyak kondisi dan iterasi yang dilakukan biasanya relatif lebih tidak pasti.\n",
        "for i in range(5):\n",
        "    print(\"Doing important work. i =\", i)\n",
        "\n",
        "while True:\n",
        "    a = input('input string: ')\n",
        "    if a == 'quit':\n",
        "        break\n",
        "    print('length of a is {}'.format(len(a)))"
      ]
    },
    {
      "cell_type": "markdown",
      "metadata": {
        "id": "xJq6aaArhlDN"
      },
      "source": [
        "\n",
        "\n",
        "---\n",
        "\n",
        "\n",
        "\n",
        "---\n",
        "\n"
      ]
    },
    {
      "cell_type": "markdown",
      "metadata": {
        "id": "fZQpBGCgsrLz"
      },
      "source": [
        "<h2>Soal 6: While Loop</h2>\n",
        "    \n",
        "Buatlah sebuah code while loop sebagai berikut :\n",
        "- Buatlah suatu fungsi yang menerima satu input nilai numerik\n",
        "- Dalam fungsi, Buat sebuah while-loop dengan melakukan comparasi terhadap inputan tersebut, dimana looping/iterasi terus berjalan apabila nilai inputan tidak sama dengan 0\n",
        "- Dalam setiap iterasi update nilai variable inputan itu, jika input lebih dari 0, maka kurangi variabel tersebut sebesar 1, selain itu tambahkan 1\n",
        "- print nilai variable input dalam setiap awal iterasi"
      ]
    },
    {
      "cell_type": "code",
      "execution_count": 3,
      "metadata": {
        "id": "uc6N4UmedrU6"
      },
      "outputs": [
        {
          "name": "stdout",
          "output_type": "stream",
          "text": [
            "\n",
            "\n",
            "\n",
            "\n",
            "\n",
            "\n",
            "\n",
            "\n",
            "\n",
            "\n"
          ]
        }
      ],
      "source": [
        "a = 10\n",
        "\n",
        "def fungsi_while(angka):\n",
        "    for i in range(angka):\n",
        "        print()\n",
        "\n",
        "\n",
        "\n",
        "\n",
        "fungsi_while(a)"
      ]
    },
    {
      "cell_type": "markdown",
      "metadata": {
        "id": "lKzngRrlsrMD"
      },
      "source": [
        "Expected Output:\n",
        "\n",
        "jika a = 10                           \n",
        "\n",
        "10                                   \n",
        "9                      \n",
        "8   \n",
        "7   \n",
        "6  \n",
        "5  \n",
        "4  \n",
        "3  \n",
        "2  \n",
        "1\n",
        "\n",
        "jika a = -10\n",
        "\n",
        "-10                                   \n",
        "-9                        \n",
        "-8  \n",
        "-7  \n",
        "-6  \n",
        "-5  \n",
        "-4  \n",
        "-3  \n",
        "-2  \n",
        "-1\n"
      ]
    },
    {
      "cell_type": "markdown",
      "metadata": {
        "id": "MhdhusMnhn8L"
      },
      "source": [
        "\n",
        "\n",
        "---\n",
        "\n",
        "\n",
        "\n",
        "---\n",
        "\n"
      ]
    },
    {
      "cell_type": "markdown",
      "metadata": {
        "id": "DnAUJ4TzgmOp"
      },
      "source": [
        "<h2>Soal 7: For Loop</h2>\n",
        "\n",
        "Lengkapi kode untuk menghasilkan suatu output yang diharapkan:\n",
        "\n",
        "\n",
        "\n",
        "\n",
        "\n",
        "*   Cari siswa mana saja yang memiliki nilai lebih dari sama dengan 80. Masukkan kedalam sebuah list. print hasilnya\n",
        "\n",
        "\n",
        "\n",
        "\n"
      ]
    },
    {
      "cell_type": "code",
      "execution_count": null,
      "metadata": {
        "id": "aeuMIX8_hGCW"
      },
      "outputs": [],
      "source": [
        "data_siswa = [\n",
        "    {\n",
        "        \"nama\":\"Budi\",\n",
        "        \"nilai\": 90\n",
        "    },\n",
        "    {\n",
        "        \"nama\":\"Nina\",\n",
        "        \"nilai\": 78\n",
        "    },\n",
        "    {\n",
        "        \"nama\":\"Rudi\",\n",
        "        \"nilai\": 91\n",
        "    },\n",
        "    {\n",
        "        \"nama\":\"Olivia\",\n",
        "        \"nilai\": 76\n",
        "    },\n",
        "    {\n",
        "        \"nama\":\"Leo\",\n",
        "        \"nilai\": 80\n",
        "    },\n",
        "    {\n",
        "        \"nama\":\"Liam\",\n",
        "        \"nilai\": 67\n",
        "    },\n",
        "    {\n",
        "        \"nama\":\"Sheila\",\n",
        "        \"nilai\": 76\n",
        "    }\n",
        "]"
      ]
    },
    {
      "cell_type": "code",
      "execution_count": 11,
      "metadata": {
        "id": "XlQsAeOchKLP"
      },
      "outputs": [],
      "source": [
        "data_siswa = [\n",
        "    {\n",
        "        \"nama\":\"Budi\",\n",
        "        \"nilai\": 90\n",
        "    },\n",
        "    {\n",
        "        \"nama\":\"Nina\",\n",
        "        \"nilai\": 78\n",
        "    },\n",
        "    {\n",
        "        \"nama\":\"Rudi\",\n",
        "        \"nilai\": 91\n",
        "    },\n",
        "    {\n",
        "        \"nama\":\"Olivia\",\n",
        "        \"nilai\": 76\n",
        "    },\n",
        "    {\n",
        "        \"nama\":\"Leo\",\n",
        "        \"nilai\": 80\n",
        "    },\n",
        "    {\n",
        "        \"nama\":\"Liam\",\n",
        "        \"nilai\": 67\n",
        "    },\n",
        "    {\n",
        "        \"nama\":\"Sheila\",\n",
        "        \"nilai\": 76\n",
        "    }\n",
        "]\n",
        "siswa_lebih_dari_80 = []\n",
        "\n",
        "for siswa in data_siswa:\n",
        "    if siswa[\"nilai\"] >= 80:\n",
        "        siswa_lebih_dari_80.append(siswa[\"nama\"])\n"
      ]
    },
    {
      "cell_type": "markdown",
      "metadata": {
        "id": "xIFJBG5PhL_5"
      },
      "source": [
        "Expected output:\n",
        "\n",
        "['Budi', 'Rudi', 'Leo']"
      ]
    },
    {
      "cell_type": "markdown",
      "metadata": {
        "id": "6qKCmZB0hqH9"
      },
      "source": [
        "\n",
        "\n",
        "---\n",
        "\n",
        "\n",
        "\n",
        "---\n",
        "\n"
      ]
    },
    {
      "cell_type": "markdown",
      "metadata": {
        "id": "IWg3Z_zZsrMG"
      },
      "source": [
        "<h2>Soal 8: For Loop Enumerate</h2>\n",
        "    \n",
        "Lengkapi kode untuk menghasilkan suatu output yang di harapkan:\n",
        "\n",
        "- Buatlah sebuah loop dengan mengiterasi sebuah objek list kemudian di kalikan dengan index dari list tersebut dan print hasilnya"
      ]
    },
    {
      "cell_type": "code",
      "execution_count": 8,
      "metadata": {
        "id": "wvxcRiq2gYS9"
      },
      "outputs": [
        {
          "name": "stdout",
          "output_type": "stream",
          "text": [
            "0\n",
            "16\n",
            "22\n",
            "30\n",
            "20\n"
          ]
        }
      ],
      "source": [
        "obj_list = [1, 16, 11, 10, 5]\n",
        "\n",
        "for index, value in enumerate(obj_list):\n",
        "    result = index * value\n",
        "    print(f\"{result}\")\n",
        "\n"
      ]
    },
    {
      "cell_type": "markdown",
      "metadata": {
        "id": "OGawROjnsrMU"
      },
      "source": [
        "Expected Output:\n",
        "\n",
        "0\n",
        "\n",
        "16\n",
        "\n",
        "22\n",
        "\n",
        "30\n",
        "\n",
        "20\n"
      ]
    },
    {
      "cell_type": "markdown",
      "metadata": {
        "id": "BEaVi_Z5hror"
      },
      "source": [
        "\n",
        "\n",
        "---\n",
        "\n",
        "\n",
        "\n",
        "---\n",
        "\n"
      ]
    }
  ],
  "metadata": {
    "colab": {
      "collapsed_sections": [],
      "name": " Tugas Hari 4.ipynb",
      "provenance": []
    },
    "kernelspec": {
      "display_name": "Python 3",
      "language": "python",
      "name": "python3"
    },
    "language_info": {
      "codemirror_mode": {
        "name": "ipython",
        "version": 3
      },
      "file_extension": ".py",
      "mimetype": "text/x-python",
      "name": "python",
      "nbconvert_exporter": "python",
      "pygments_lexer": "ipython3",
      "version": "3.7.7"
    }
  },
  "nbformat": 4,
  "nbformat_minor": 0
}
